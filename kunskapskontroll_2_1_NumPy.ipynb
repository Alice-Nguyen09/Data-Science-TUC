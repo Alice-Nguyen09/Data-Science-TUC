{
 "cells": [
  {
   "cell_type": "markdown",
   "id": "dacf74e6",
   "metadata": {},
   "source": [
    "# NumPy"
   ]
  },
  {
   "cell_type": "markdown",
   "id": "01b2bf34",
   "metadata": {},
   "source": [
    "Read the links: https://numpy.org/doc/stable/user/quickstart.html  and https://numpy.org/doc/stable/user/basics.broadcasting.html  before solving the exercises. "
   ]
  },
  {
   "cell_type": "code",
   "execution_count": 57,
   "id": "1f79e4a6",
   "metadata": {},
   "outputs": [],
   "source": [
    "import numpy as np"
   ]
  },
  {
   "cell_type": "markdown",
   "id": "7dae6889",
   "metadata": {},
   "source": [
    "### Print out the dimension (number of axes), shape, size and the datatype of the matrix A."
   ]
  },
  {
   "cell_type": "code",
   "execution_count": 58,
   "id": "7b3678cd",
   "metadata": {},
   "outputs": [
    {
     "name": "stdout",
     "output_type": "stream",
     "text": [
      "[[ 1  2  3  4  5]\n",
      " [ 6  7  8  9 10]\n",
      " [11 12 13 14 15]]\n"
     ]
    }
   ],
   "source": [
    "A = np.arange(1, 16).reshape(3,5)\n",
    "print (A)"
   ]
  },
  {
   "cell_type": "code",
   "execution_count": 59,
   "id": "31d39235",
   "metadata": {},
   "outputs": [
    {
     "name": "stdout",
     "output_type": "stream",
     "text": [
      "Dimension (number of axes): 2\n",
      "Shape: (3, 5)\n",
      "Size: 15\n",
      "Datatype: int64\n"
     ]
    }
   ],
   "source": [
    "print(\"Dimension (number of axes):\", A.ndim)\n",
    "print(\"Shape:\", A.shape)\n",
    "print(\"Size:\", A.size)\n",
    "print(\"Datatype:\", A.dtype)"
   ]
  },
  {
   "cell_type": "markdown",
   "id": "e56d2a96",
   "metadata": {},
   "source": [
    "### Do the following computations on the matrices B and C: \n",
    "* Elementwise subtraction. \n",
    "* Elementwise multiplication. \n",
    "* Matrix multiplication (by default you should use the @ operator)."
   ]
  },
  {
   "cell_type": "code",
   "execution_count": 60,
   "id": "a7053fbb",
   "metadata": {},
   "outputs": [
    {
     "name": "stdout",
     "output_type": "stream",
     "text": [
      "[[1 2 3]\n",
      " [4 5 6]\n",
      " [7 8 9]]\n",
      "\n",
      "[[2. 2. 2.]\n",
      " [2. 2. 2.]\n",
      " [2. 2. 2.]]\n"
     ]
    }
   ],
   "source": [
    "B = np.arange(1, 10).reshape(3, 3)\n",
    "C = np.ones((3, 3))*2\n",
    "\n",
    "print(B)\n",
    "print ()\n",
    "print(C)"
   ]
  },
  {
   "cell_type": "code",
   "execution_count": 61,
   "id": "3cd794ae",
   "metadata": {},
   "outputs": [
    {
     "name": "stdout",
     "output_type": "stream",
     "text": [
      "[[-1.  0.  1.]\n",
      " [ 2.  3.  4.]\n",
      " [ 5.  6.  7.]]\n",
      "[[ 2.  4.  6.]\n",
      " [ 8. 10. 12.]\n",
      " [14. 16. 18.]]\n",
      "[[12. 12. 12.]\n",
      " [30. 30. 30.]\n",
      " [48. 48. 48.]]\n"
     ]
    }
   ],
   "source": [
    "elementwise_subtraction = B - C\n",
    "elementwise_multiplication = B * C\n",
    "matrix_multiplication = B @ C\n",
    "\n",
    "print (elementwise_subtraction)\n",
    "print (elementwise_multiplication)\n",
    "print (matrix_multiplication)"
   ]
  },
  {
   "cell_type": "markdown",
   "id": "96030d53",
   "metadata": {},
   "source": [
    "### Do the following calculations on the matrix:\n",
    "* Exponentiate each number elementwise (use the np.exp function).\n",
    "\n",
    "* Calculate the minimum value in the whole matrix. \n",
    "* Calculcate the minimum value in each row. \n",
    "* Calculcate the minimum value in each column. \n",
    "\n",
    "\n",
    "* Find the index value for the minimum value in the whole matrix (hint: use np.argmin).\n",
    "* Find the index value for the minimum value in each row (hint: use np.argmin).\n",
    "\n",
    "\n",
    "* Calculate the sum for all elements.\n",
    "* Calculate the mean for each column. \n",
    "* Calculate the median for each column. "
   ]
  },
  {
   "cell_type": "code",
   "execution_count": 62,
   "id": "f8a9166b",
   "metadata": {},
   "outputs": [
    {
     "name": "stdout",
     "output_type": "stream",
     "text": [
      "[[1 2 3]\n",
      " [4 5 6]\n",
      " [7 8 9]]\n"
     ]
    }
   ],
   "source": [
    "B = np.arange(1, 10).reshape(3, 3)\n",
    "print(B)"
   ]
  },
  {
   "cell_type": "code",
   "execution_count": 63,
   "id": "f03f24f7",
   "metadata": {},
   "outputs": [
    {
     "name": "stdout",
     "output_type": "stream",
     "text": [
      "[[2.71828183e+00 7.38905610e+00 2.00855369e+01]\n",
      " [5.45981500e+01 1.48413159e+02 4.03428793e+02]\n",
      " [1.09663316e+03 2.98095799e+03 8.10308393e+03]]\n"
     ]
    }
   ],
   "source": [
    "elementwise_exponentiated = np.exp(B)\n",
    "print (elementwise_exponentiated)"
   ]
  },
  {
   "cell_type": "code",
   "execution_count": 64,
   "id": "6af47679",
   "metadata": {},
   "outputs": [],
   "source": [
    "matrix_minimum = B.min ()\n",
    "row_minimum = B.min(axis=1)\n",
    "colum_minimum = B.min(axis=0)\n",
    "matrix_index_minimum = np.argmin(B)\n",
    "row_index_minimum = np.argmin(B, axis=1)\n",
    "elements_sum = B.sum ()\n",
    "colum_mean = B.mean (axis=0)\n",
    "colum_median = np.median (B, axis=0)"
   ]
  },
  {
   "cell_type": "code",
   "execution_count": 65,
   "id": "fc625cae",
   "metadata": {},
   "outputs": [
    {
     "name": "stdout",
     "output_type": "stream",
     "text": [
      "1\n",
      "[1 4 7]\n",
      "[1 2 3]\n",
      "0\n",
      "[0 0 0]\n",
      "[1 4 7]\n",
      "45\n",
      "[4. 5. 6.]\n",
      "[4. 5. 6.]\n"
     ]
    }
   ],
   "source": [
    "print (matrix_minimum)\n",
    "print (row_minimum)\n",
    "print (colum_minimum)\n",
    "print (matrix_index_minimum)\n",
    "print (row_index_minimum)\n",
    "print (row_minimum)\n",
    "print (elements_sum)\n",
    "print (colum_mean)\n",
    "print (colum_median)"
   ]
  },
  {
   "cell_type": "markdown",
   "id": "541eb7ba",
   "metadata": {},
   "source": [
    "### What does it mean when you provide fewer indices than axes when slicing? See example below."
   ]
  },
  {
   "cell_type": "code",
   "execution_count": 66,
   "id": "9c8abf56",
   "metadata": {},
   "outputs": [
    {
     "name": "stdout",
     "output_type": "stream",
     "text": [
      "[[ 1  2  3  4  5]\n",
      " [ 6  7  8  9 10]\n",
      " [11 12 13 14 15]]\n"
     ]
    }
   ],
   "source": [
    "print(A)"
   ]
  },
  {
   "cell_type": "code",
   "execution_count": 67,
   "id": "69415f7b",
   "metadata": {},
   "outputs": [
    {
     "data": {
      "text/plain": [
       "array([ 6,  7,  8,  9, 10])"
      ]
     },
     "execution_count": 67,
     "metadata": {},
     "output_type": "execute_result"
    }
   ],
   "source": [
    "A[1]"
   ]
  },
  {
   "cell_type": "markdown",
   "id": "6c53541b",
   "metadata": {},
   "source": [
    "**Answer:**"
   ]
  },
  {
   "cell_type": "code",
   "execution_count": 69,
   "id": "de01e120",
   "metadata": {},
   "outputs": [
    {
     "data": {
      "text/plain": [
       "array([ 3,  8, 13])"
      ]
     },
     "execution_count": 69,
     "metadata": {},
     "output_type": "execute_result"
    }
   ],
   "source": [
    "# Matrisen A har två axlar. Axel 0 som är rader och axel 1 som är kolumner.\n",
    "# I axel 0 (rad) finns det 3 rader med index 0,1 och 2.\n",
    "# I axel 1 (kolum) finns det 5 kolumner med index 0,1, 2, 3 och 4. \n",
    "\n",
    "# För A[1] anges bara index 1, kommer python förstå att man vill indexera längs axel 0 (rader).\n",
    "# Detta betyder att alla kolumner i rad 1 ska tas med, vilket i detta fall är 6,7,8,9 och 10.\n",
    "\n",
    "# Detta exempel visar att när man anger färre index än antalet axlar i en Numpy matrisen, kommer\n",
    "# Python förstår automatiskt att man viill ta med hela innehåller i de axlar man inte angiviit något index för. \n",
    "\n",
    "# Vill man ha innehållet längst axal 0 (rad) anger man index för kolumn som man vill ha.\n",
    "A[:, 2]"
   ]
  },
  {
   "cell_type": "markdown",
   "id": "6652d0c9",
   "metadata": {},
   "source": [
    "### Iterating over multidimensional arrays is done with respect to the first axis, so in the example below we iterate trough the rows. If you would like to iterate through the array *elementwise*, how would you do that?"
   ]
  },
  {
   "cell_type": "code",
   "execution_count": 70,
   "id": "9459864f",
   "metadata": {},
   "outputs": [
    {
     "data": {
      "text/plain": [
       "array([[ 1,  2,  3,  4,  5],\n",
       "       [ 6,  7,  8,  9, 10],\n",
       "       [11, 12, 13, 14, 15]])"
      ]
     },
     "execution_count": 70,
     "metadata": {},
     "output_type": "execute_result"
    }
   ],
   "source": [
    "A"
   ]
  },
  {
   "cell_type": "code",
   "execution_count": 71,
   "id": "a671bb5a",
   "metadata": {},
   "outputs": [
    {
     "name": "stdout",
     "output_type": "stream",
     "text": [
      "[1 2 3 4 5]\n",
      "[ 6  7  8  9 10]\n",
      "[11 12 13 14 15]\n"
     ]
    }
   ],
   "source": [
    "for i in A:\n",
    "    print(i)"
   ]
  },
  {
   "cell_type": "code",
   "execution_count": 74,
   "id": "f4e443a0",
   "metadata": {},
   "outputs": [
    {
     "name": "stdout",
     "output_type": "stream",
     "text": [
      "1\n",
      "2\n",
      "3\n",
      "4\n",
      "5\n",
      "6\n",
      "7\n",
      "8\n",
      "9\n",
      "10\n",
      "11\n",
      "12\n",
      "13\n",
      "14\n",
      "15\n"
     ]
    }
   ],
   "source": [
    "for i in np.nditer (A):\n",
    "    print (i)"
   ]
  },
  {
   "cell_type": "markdown",
   "id": "608a2583",
   "metadata": {},
   "source": [
    "### Explain what the code below does. More specifically, b has three axes - what does this mean? "
   ]
  },
  {
   "cell_type": "code",
   "execution_count": 14,
   "id": "f8f9b26f",
   "metadata": {},
   "outputs": [
    {
     "name": "stdout",
     "output_type": "stream",
     "text": [
      "[ 0  1  2  3  4  5  6  7  8  9 10 11 12 13 14 15 16 17 18 19 20 21 22 23\n",
      " 24 25 26 27 28 29]\n",
      "\n",
      "[[[ 0  1  2  3  4]\n",
      "  [ 5  6  7  8  9]\n",
      "  [10 11 12 13 14]]\n",
      "\n",
      " [[15 16 17 18 19]\n",
      "  [20 21 22 23 24]\n",
      "  [25 26 27 28 29]]]\n"
     ]
    }
   ],
   "source": [
    "a = np.arange(30)\n",
    "b = a.reshape((2, 3, -1))\n",
    "print(a)\n",
    "print()\n",
    "\n",
    "print(b)"
   ]
  },
  {
   "cell_type": "code",
   "execution_count": null,
   "id": "863a45df",
   "metadata": {},
   "outputs": [],
   "source": [
    "# a = np.arrange (30) betyder att det skapar en endimensionell array som innehåller heltal från 0 tll 29.\n",
    "\n",
    "# b ska ändra formen på array a från endiimensionell till tre dimensinell med formen 2, 3 och -1. \n",
    "\n",
    "# b har tre demensioner, vilket betyder att det har tre axlar:\n",
    "# Axel 0:  Representerar de två lagren (eller \"blocken\") med data, så den har storleken 2.\n",
    "# Axel 1: Representerar de tre raderna i varje block, så den har storleken 3.\n",
    "# Axel 2: Representerar de fem värdena i varje rad, så den har storleken 5.\n"
   ]
  },
  {
   "cell_type": "markdown",
   "id": "421c9607-819a-401d-949a-97424436fe29",
   "metadata": {},
   "source": [
    "# For the exercises below, read the document *\"matematik_yh_antonio_vektorer_matriser_utdrag\"*\n",
    "# Solutions to the exercises and recorded videos can be found here: https://github.com/AntonioPrgomet/matematik_foer_yh\n",
    "\n",
    "# If you find the exercises below very hard, do not worry. Try your best, that will be enough. "
   ]
  },
  {
   "cell_type": "markdown",
   "id": "ab5933d5",
   "metadata": {},
   "source": [
    "### Broadcasting\n",
    "**Read the following link about broadcasting: https://numpy.org/doc/stable/user/basics.broadcasting.html#basics-broadcasting**"
   ]
  },
  {
   "cell_type": "markdown",
   "id": "039805ba",
   "metadata": {},
   "source": [
    "# Remark on Broadcasting when doing Linear Algebra calculations in Python. "
   ]
  },
  {
   "cell_type": "markdown",
   "id": "c4bcc147",
   "metadata": {},
   "source": [
    "### From the mathematical rules of matrix addition, the operation below (m1 + m2) does not make sense. The reason is that matrix addition requires two matrices of the same size. In Python however, it works due to broadcasting rules in NumPy. So you must be careful when doing Linear Algebra calculations in Python since they do not follow the \"mathematical rules\". This can however easily be handled by doing some simple programming, for example validating that two matrices have the same shape is easy if you for instance want to add two matrices. "
   ]
  },
  {
   "cell_type": "code",
   "execution_count": 15,
   "id": "1fd46778",
   "metadata": {},
   "outputs": [
    {
     "name": "stdout",
     "output_type": "stream",
     "text": [
      "[[2 3]\n",
      " [4 5]]\n"
     ]
    }
   ],
   "source": [
    "m1 = np.array([[1, 2], [3, 4]])\n",
    "m2 = np.array([1, 1])\n",
    "print(m1 + m2)"
   ]
  },
  {
   "cell_type": "markdown",
   "id": "047d6576",
   "metadata": {},
   "source": [
    "### The example below would also not be allowed if following the \"mathematical rules\" in Linear Algebra. But it works due to broadcasting in NumPy. "
   ]
  },
  {
   "cell_type": "code",
   "execution_count": 16,
   "id": "5e6ef2e4",
   "metadata": {},
   "outputs": [
    {
     "name": "stdout",
     "output_type": "stream",
     "text": [
      "[2 3 4]\n"
     ]
    }
   ],
   "source": [
    "v1 = np.array([1, 2, 3])\n",
    "print(v1 + 1)"
   ]
  },
  {
   "cell_type": "code",
   "execution_count": 17,
   "id": "e2cbae26",
   "metadata": {},
   "outputs": [
    {
     "name": "stdout",
     "output_type": "stream",
     "text": [
      "[[1 2]\n",
      " [3 4]]\n",
      "[2 2]\n"
     ]
    }
   ],
   "source": [
    "A = np.arange(1, 5).reshape(2,2)\n",
    "print(A)\n",
    "\n",
    "b = np.array([2, 2])\n",
    "print(b)"
   ]
  },
  {
   "cell_type": "markdown",
   "id": "722fd5cd",
   "metadata": {},
   "source": [
    "# Vector- and matrix algebra Exercises"
   ]
  },
  {
   "cell_type": "markdown",
   "id": "b63a3081-d976-4d9f-bfd0-a63917e79f7d",
   "metadata": {},
   "source": [
    "**Now you are going to create a function that can be reused every time you add or multiply matrices. The function is created so that we do the addition and multiplication according to the rules of vector- and matrix algebra.**\n",
    "\n",
    "**Create a function \"add_mult_matrices\" that takes two matrices as input arguments (validate that the input are of the type numpy.ndarray by using the isinstance function), a third argument that is either 'add' or 'multiply' that specifies if you want to add or multiply the matrices (validate that the third argument is either 'add' or 'multiply'). When doing matrix addition, validate that the matrices have the same size. When doing matrix multiplication, validate that the sizes conform (i.e. number of columns in the first matrix is equal to the number of rows in the second matrix).**"
   ]
  },
  {
   "cell_type": "code",
   "execution_count": 49,
   "id": "3506f977-ac0a-473f-85bc-eec9f35dc498",
   "metadata": {},
   "outputs": [
    {
     "name": "stdout",
     "output_type": "stream",
     "text": [
      "Addition Result:\n",
      "[[ 6  8]\n",
      " [10 12]]\n",
      "Multiplication Result:\n",
      "[[19 22]\n",
      " [43 50]]\n"
     ]
    }
   ],
   "source": [
    "def add_mult_matrices(matrix1, matrix2, operation):\n",
    "    \n",
    "    # Validate that inputs are numpy arrays\n",
    "    if not (isinstance(matrix1, np.ndarray) and isinstance(matrix2, np.ndarray)):\n",
    "        raise TypeError(\"Both inputs must be of type numpy.ndarray\")\n",
    "\n",
    "    # Validate the operation\n",
    "    if operation not in ['add', 'multiply']:\n",
    "        raise ValueError(\"Operation must be either 'add' or 'multiply'\")\n",
    "\n",
    "    # Perform addition\n",
    "    if operation == 'add':\n",
    "        if matrix1.shape != matrix2.shape:\n",
    "            raise ValueError(\"Matrices must have the same dimensions for addition\")\n",
    "        return matrix1 + matrix2\n",
    "\n",
    "    # Perform multiplication\n",
    "    if operation == 'multiply':\n",
    "        if matrix1.shape[1] != matrix2.shape[0]:\n",
    "            raise ValueError(\"Number of columns in the first matrix must equal the number of rows in the second matrix for multiplication\")\n",
    "        return np.dot(matrix1, matrix2)\n",
    "\n",
    "# Example usage:\n",
    "if __name__ == \"__main__\":\n",
    "    A = np.array([[1, 2], [3, 4]])\n",
    "    B = np.array([[5, 6], [7, 8]])\n",
    "\n",
    "    # Addition\n",
    "    try:\n",
    "        result_add = add_mult_matrices(A, B, 'add')\n",
    "        print(\"Addition Result:\")\n",
    "        print(result_add)\n",
    "    except Exception as e:\n",
    "        print(f\"Addition Error: {e}\")\n",
    "\n",
    "    # Multiplication\n",
    "    try:\n",
    "        result_mult = add_mult_matrices(A, B, 'multiply')\n",
    "        print(\"Multiplication Result:\")\n",
    "        print(result_mult)\n",
    "    except Exception as e:\n",
    "        print(f\"Multiplication Error: {e}\")\n"
   ]
  },
  {
   "cell_type": "markdown",
   "id": "8dad82d0-2359-4dff-8f5b-a57d3e34103c",
   "metadata": {},
   "source": [
    "### Solve all the exercises in chapter 10.1 in the book \"Matematik för yrkeshögskolan\" by using Python. "
   ]
  },
  {
   "cell_type": "markdown",
   "id": "fcab4175",
   "metadata": {},
   "source": [
    "#### Uppgift 10.1.1 Definiera vektorn x enligt nedan   \n",
    "    x = (4, 3)\n"
   ]
  },
  {
   "cell_type": "code",
   "execution_count": 22,
   "id": "89df88af-3668-4d98-a0a4-e6d92eea0f89",
   "metadata": {},
   "outputs": [
    {
     "name": "stdout",
     "output_type": "stream",
     "text": [
      "a: (1, 2)\n",
      "b: [[20 15]]\n",
      "c: [[12  9]]\n",
      "d: [[32 24]]\n",
      "e: [[32 24]]\n",
      "f: [[12  9]]\n",
      "g: [[4]\n",
      " [3]]\n",
      "i: 5.0\n"
     ]
    }
   ],
   "source": [
    "y = np.array([4, 3])\n",
    "x = y.reshape (1, 2)\n",
    "\n",
    "\n",
    "#(a) Vilken dimension har vektorn x?\n",
    "print (\"a:\", x.shape)\n",
    "# Vektorn x = (4, 3) har demesionen 1 x 2.\n",
    "\n",
    "# (b) Beräkna 5x.\n",
    "Beräkna_5x = 5 * x\n",
    "\n",
    "# (c) Beräkna 3x.\n",
    "Beräkna_3x = 3 * x\n",
    "\n",
    "# (d) Beräkna 5x + 3x.\n",
    "Beräkna_5x_plus_3x = Beräkna_5x + Beräkna_3x\n",
    "\n",
    "# (e) Beräkna 8x.\n",
    "Beräkna_8x = 8 * x\n",
    "\n",
    "# (f) Beräkna 4x − x.\n",
    "Beräkna_4x_minus_x = 4 * x - x\n",
    "\n",
    "# (g) Beräkna x⊤, vilken blir den nya dimensionen efter att transponeringen utförat?\n",
    "xT = y.reshape (2, 1)\n",
    "# och den nya dimensionen efter transponeringen är  2 × 1.\n",
    "\n",
    "#(h) Är x + x⊤ definierat?\n",
    "# Det är inte defiinerat eftersom x har dimesionen 1 x 2 och xT har dimensionen 2 x 1. \n",
    "\n",
    "#(i) Beräkna ∥x∥.\n",
    "Beräkna_x_norm = np.linalg.norm(x)\n",
    "\n",
    "print (\"b:\", Beräkna_5x)\n",
    "print (\"c:\", Beräkna_3x)\n",
    "print (\"d:\", Beräkna_5x_plus_3x)\n",
    "print (\"e:\", Beräkna_8x)\n",
    "print (\"f:\", Beräkna_4x_minus_x)\n",
    "print (\"g:\", xT)\n",
    "print (\"i:\", Beräkna_x_norm)"
   ]
  },
  {
   "cell_type": "markdown",
   "id": "1783dd0b",
   "metadata": {},
   "source": [
    "#### Uppgift 10.1.2. Definiera vektorn v enligt nedan.\n",
    "vT = (3,7,0,11)"
   ]
  },
  {
   "cell_type": "code",
   "execution_count": 23,
   "id": "560139f3",
   "metadata": {},
   "outputs": [
    {
     "name": "stdout",
     "output_type": "stream",
     "text": [
      "a: (4, 1)\n",
      "b: [[ 6]\n",
      " [14]\n",
      " [ 0]\n",
      " [22]]\n",
      "c: [[21]\n",
      " [49]\n",
      " [ 0]\n",
      " [77]]\n",
      "d: [[ 6]\n",
      " [14]\n",
      " [ 0]\n",
      " [22]]\n",
      "e: [[ 3  7  0 11]]\n",
      "f: 13.379088160259652\n"
     ]
    }
   ],
   "source": [
    "x = np.array([3, 7, 0, 11])\n",
    "v = x.reshape (4,1)\n",
    "\n",
    "# (a) Vilken dimension har vektorn v?\n",
    "v.shape\n",
    "# Vektorn v har dimesonen 4 x 1. Vilket betyder att 4 rader och en kolum\n",
    "\n",
    "# (b) Beräkna 2v.\n",
    "Beräkna_2v = 2 * v\n",
    "\n",
    "# (c)Beräkna 5v + 2v\n",
    "Beräkna_5v_plus_2v = 5 * v + Beräkna_2v\n",
    "\n",
    "# (d) Beräkna 4v − 2v.\n",
    "Beräkna_4v_minus_2v = 4 * v - Beräkna_2v\n",
    "\n",
    "# (e) Beräkna v⊤, vilken blir den nya dimensionen efter att transponeringen utförts?\n",
    "vT = x.reshape (1,4)\n",
    "# vT har dimensionen 1 x 4 efter transponeneringen\n",
    "\n",
    "# (f) Beräkna ∥v∥.\n",
    "Beräkna_v_norm = np.linalg.norm (v)\n",
    "\n",
    "\n",
    "print (\"a:\", v.shape)\n",
    "print (\"b:\", Beräkna_2v)\n",
    "print (\"c:\", Beräkna_5v_plus_2v)\n",
    "print (\"d:\", Beräkna_4v_minus_2v)\n",
    "print (\"e:\", vT)\n",
    "print (\"f:\", Beräkna_v_norm)"
   ]
  },
  {
   "cell_type": "markdown",
   "id": "96f1e227",
   "metadata": {},
   "source": [
    "#### Uppgift 10.1.3. Definiera vektorerna \n",
    "v1 = (4, 3, 1, 5) och\n",
    "v2 = (2, 3, 1, 1)."
   ]
  },
  {
   "cell_type": "code",
   "execution_count": 24,
   "id": "93f8b642",
   "metadata": {},
   "outputs": [
    {
     "name": "stdout",
     "output_type": "stream",
     "text": [
      "a: 7.14142842854285\n",
      "b: 4.47213595499958\n"
     ]
    }
   ],
   "source": [
    "x = np.array ([4,3,1,5])\n",
    "v1 = x.reshape (1,4)\n",
    "\n",
    "y = np.array ([2,3,1,1])\n",
    "v2 = y.reshape (1,4)\n",
    "\n",
    "\n",
    "#(a) Beräkna ∥v1∥.\n",
    "Beräkna_v1_norm = np.linalg.norm(v1)\n",
    "\n",
    "# (b) Beräkna ∥v1 - v2∥\n",
    "Beräkna_v1_minus_v2_norm = np.linalg.norm(v1-v2)\n",
    "\n",
    "print (\"a:\", Beräkna_v1_norm)\n",
    "print (\"b:\", Beräkna_v1_minus_v2_norm)"
   ]
  },
  {
   "cell_type": "markdown",
   "id": "75c98984-1f88-4df1-b850-d2466de444a5",
   "metadata": {},
   "source": [
    "### Solve all the exercises, except 10.2.4, in chapter 10.2 in the book \"Matematik för yrkeshögskolan\" by using Python. "
   ]
  },
  {
   "cell_type": "markdown",
   "id": "a4b50687",
   "metadata": {},
   "source": [
    "#### Uppgift 10.2.4\n",
    "##### Skriv det linjära ekvationssystemet nedan på formen Ax = b.\n",
    "##### 3x1 + 2x2 + 4x3 = 7\n",
    "##### 2x1 + 3x2 + 8x3 = 4\n",
    "##### 4x1 + x2 + 3x3 = 11\n",
    "##### 7x1 + x2 + 5x3 = 9"
   ]
  },
  {
   "cell_type": "code",
   "execution_count": 47,
   "id": "65371610-16e1-48b2-b7fb-65e49002608a",
   "metadata": {},
   "outputs": [
    {
     "name": "stdout",
     "output_type": "stream",
     "text": [
      "[[3 2 4]\n",
      " [2 3 8]\n",
      " [4 1 3]\n",
      " [7 1 5]]\n",
      "[[ 7]\n",
      " [ 4]\n",
      " [11]\n",
      " [ 9]]\n",
      "Solution vector x (least squares):\n",
      "[[ 2.13691417]\n",
      " [ 4.83412322]\n",
      " [-1.89152185]]\n",
      "Ax =\n",
      "[[ 8.51290153]\n",
      " [ 3.64402317]\n",
      " [ 7.70721432]\n",
      " [10.33491311]]\n",
      "Is Ax close to b?  False\n"
     ]
    }
   ],
   "source": [
    "A = np.array ([\n",
    "    [3, 2, 4],\n",
    "    [2, 3, 8],\n",
    "    [4, 1, 3],\n",
    "    [7, 1, 5]\n",
    "])\n",
    "\n",
    "print (A)\n",
    "a = np.array([7, 4, 11, 9])\n",
    "b = a.reshape (4,1)\n",
    "print (b)\n",
    "\n",
    "\n",
    "x, residuals, rank, s = np.linalg.lstsq(A, b, rcond=None)\n",
    "Ax = A @ x\n"
   ]
  },
  {
   "cell_type": "markdown",
   "id": "6a4a524f",
   "metadata": {},
   "source": [
    "### Copies and Views\n",
    "Read the following link: https://numpy.org/doc/stable/user/basics.copies.html"
   ]
  },
  {
   "cell_type": "markdown",
   "id": "6cbbeaf7",
   "metadata": {},
   "source": [
    "**Basic indexing creates a view, How can you check if v1 and v2 is a view or copy? If you change the last element in v2 to 123, will the last element in v1 be changed? Why?**"
   ]
  },
  {
   "cell_type": "code",
   "execution_count": 18,
   "id": "5b9ef4df",
   "metadata": {},
   "outputs": [
    {
     "name": "stdout",
     "output_type": "stream",
     "text": [
      "[0 1 2 3]\n",
      "[2 3]\n"
     ]
    }
   ],
   "source": [
    "v1 = np.arange(4)\n",
    "v2 = v1[-2:]\n",
    "print(v1)\n",
    "print(v2)"
   ]
  },
  {
   "cell_type": "code",
   "execution_count": 19,
   "id": "d2440489",
   "metadata": {},
   "outputs": [
    {
     "name": "stdout",
     "output_type": "stream",
     "text": [
      "None\n",
      "[0 1 2 3]\n"
     ]
    }
   ],
   "source": [
    "# The base attribute of a view returns the original array while it returns None for a copy.\n",
    "print(v1.base)\n",
    "print(v2.base)"
   ]
  },
  {
   "cell_type": "code",
   "execution_count": 20,
   "id": "c8752807",
   "metadata": {},
   "outputs": [
    {
     "name": "stdout",
     "output_type": "stream",
     "text": [
      "[  0   1   2 123]\n",
      "[  2 123]\n"
     ]
    }
   ],
   "source": [
    "# The last element in v1 will be changed aswell since v2 is a view, meaning they share the same data buffer.\n",
    "v2[-1] = 123\n",
    "print(v1)\n",
    "print(v2)"
   ]
  },
  {
   "cell_type": "code",
   "execution_count": null,
   "id": "3dd68221",
   "metadata": {},
   "outputs": [],
   "source": []
  }
 ],
 "metadata": {
  "kernelspec": {
   "display_name": "base",
   "language": "python",
   "name": "python3"
  },
  "language_info": {
   "codemirror_mode": {
    "name": "ipython",
    "version": 3
   },
   "file_extension": ".py",
   "mimetype": "text/x-python",
   "name": "python",
   "nbconvert_exporter": "python",
   "pygments_lexer": "ipython3",
   "version": "3.12.7"
  }
 },
 "nbformat": 4,
 "nbformat_minor": 5
}
