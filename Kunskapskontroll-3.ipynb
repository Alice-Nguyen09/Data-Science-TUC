{
 "cells": [
  {
   "cell_type": "code",
   "execution_count": 233,
   "metadata": {},
   "outputs": [],
   "source": [
    "import pandas as pd\n",
    "import sqlite3"
   ]
  },
  {
   "cell_type": "code",
   "execution_count": 234,
   "metadata": {},
   "outputs": [],
   "source": [
    "import numpy as np\n",
    "import matplotlib as plt\n",
    "import streamlit as st"
   ]
  },
  {
   "cell_type": "code",
   "execution_count": 235,
   "metadata": {},
   "outputs": [],
   "source": [
    "df = pd.read_csv ('/Users/AliceNguyen/Documents/Data Manager - TUC/(År 1.4) Data Science/used_car_sales.csv')"
   ]
  },
  {
   "cell_type": "code",
   "execution_count": 236,
   "metadata": {},
   "outputs": [],
   "source": [
    "df.drop ([\"ID\",\"zipcode\", \"Trim\", \"NumCylinders\", \"yearsold\", \"Engine\"], axis = 1, inplace = True)"
   ]
  },
  {
   "cell_type": "code",
   "execution_count": 237,
   "metadata": {},
   "outputs": [],
   "source": [
    "df = df.dropna()"
   ]
  },
  {
   "cell_type": "code",
   "execution_count": 238,
   "metadata": {},
   "outputs": [],
   "source": [
    "new_ordning = [\"Make\", \"Model\", \"BodyType\", \"DriveType\", \"Mileage\", \"Year\", \"pricesold\"]"
   ]
  },
  {
   "cell_type": "code",
   "execution_count": 239,
   "metadata": {},
   "outputs": [],
   "source": [
    "df = df[new_ordning]"
   ]
  },
  {
   "cell_type": "code",
   "execution_count": 240,
   "metadata": {},
   "outputs": [],
   "source": [
    "df['DriveType'] = df['DriveType'].replace({\n",
    "    'AWD': 'full',\n",
    "    '4WD': 'full',\n",
    "    'FWD': 'front',\n",
    "    'RWD': 'rear',\n",
    "    '2WD': 'front'\n",
    "})"
   ]
  },
  {
   "cell_type": "code",
   "execution_count": 241,
   "metadata": {},
   "outputs": [],
   "source": [
    "df.columns = df.columns.str.title()"
   ]
  },
  {
   "cell_type": "code",
   "execution_count": 242,
   "metadata": {},
   "outputs": [
    {
     "name": "stdout",
     "output_type": "stream",
     "text": [
      "                     Make               Model      Bodytype Drivetype  \\\n",
      "0                    Ford             Mustang         Sedan      rear   \n",
      "1       Replica/Kit Makes  Jaguar Beck Lister   Convertible      rear   \n",
      "2                  Jaguar                 XJS   Convertible      rear   \n",
      "3                    Ford             Mustang         Coupe      rear   \n",
      "4                 Porsche                 911         Coupe      full   \n",
      "...                   ...                 ...           ...       ...   \n",
      "122135               Ford              Bronco           SUV      full   \n",
      "122136           Plymouth           Barracuda         Coupe      Rear   \n",
      "122138           Plymouth         Belvedere 2  Sports Coupe      rear   \n",
      "122142                BMW            3-Series         Coupe      rear   \n",
      "122143             Nissan               300ZX         Coupe      rear   \n",
      "\n",
      "        Mileage  Year  Pricesold  \n",
      "0         84430  1988       7500  \n",
      "1             0  1958      15000  \n",
      "2         55000  1995       8750  \n",
      "3         97200  1968      11600  \n",
      "4         40703  2002      44000  \n",
      "...         ...   ...        ...  \n",
      "122135    76413  1979       6700  \n",
      "122136    99899  1967       4900  \n",
      "122138    59197  1966       4500  \n",
      "122142   164337  2000       2280  \n",
      "122143   163111  1990       5000  \n",
      "\n",
      "[88079 rows x 7 columns]\n"
     ]
    }
   ],
   "source": [
    "print (df)"
   ]
  },
  {
   "cell_type": "code",
   "execution_count": 243,
   "metadata": {},
   "outputs": [],
   "source": [
    "df = pd.read_csv ('/Users/AliceNguyen/Documents/Data Manager - TUC/(År 1.4) Data Science/raj_car_sales_analysis_data.csv')"
   ]
  },
  {
   "cell_type": "code",
   "execution_count": 244,
   "metadata": {},
   "outputs": [],
   "source": [
    "df.drop ([\"engV\", \"engType\", \"registration\"], axis = 1, inplace = True)"
   ]
  },
  {
   "cell_type": "code",
   "execution_count": 245,
   "metadata": {},
   "outputs": [],
   "source": [
    "df = df.loc[:, ~df.columns.str.contains('^Unnamed')]"
   ]
  },
  {
   "cell_type": "code",
   "execution_count": 246,
   "metadata": {},
   "outputs": [
    {
     "name": "stdout",
     "output_type": "stream",
     "text": [
      "<class 'pandas.core.frame.DataFrame'>\n",
      "RangeIndex: 9576 entries, 0 to 9575\n",
      "Data columns (total 7 columns):\n",
      " #   Column   Non-Null Count  Dtype  \n",
      "---  ------   --------------  -----  \n",
      " 0   car      9576 non-null   object \n",
      " 1   price    9576 non-null   float64\n",
      " 2   body     9576 non-null   object \n",
      " 3   mileage  9576 non-null   int64  \n",
      " 4   year     9576 non-null   int64  \n",
      " 5   model    9576 non-null   object \n",
      " 6   drive    9065 non-null   object \n",
      "dtypes: float64(1), int64(2), object(4)\n",
      "memory usage: 523.8+ KB\n"
     ]
    }
   ],
   "source": [
    "df.info()"
   ]
  },
  {
   "cell_type": "code",
   "execution_count": 247,
   "metadata": {},
   "outputs": [],
   "source": [
    "df = df.dropna()"
   ]
  },
  {
   "cell_type": "code",
   "execution_count": 248,
   "metadata": {},
   "outputs": [],
   "source": [
    "df = df.rename(columns={\n",
    "    'car': 'Make',\n",
    "    'price' : 'pricesold',\n",
    "    'drive' : 'DriveType',\n",
    "    'body' : 'Bodytype',\n",
    "    })"
   ]
  },
  {
   "cell_type": "code",
   "execution_count": 249,
   "metadata": {},
   "outputs": [],
   "source": [
    "df.columns = df.columns.str.title()"
   ]
  },
  {
   "cell_type": "code",
   "execution_count": 250,
   "metadata": {},
   "outputs": [
    {
     "name": "stdout",
     "output_type": "stream",
     "text": [
      "<class 'pandas.core.frame.DataFrame'>\n",
      "Index: 9065 entries, 0 to 9575\n",
      "Data columns (total 7 columns):\n",
      " #   Column     Non-Null Count  Dtype  \n",
      "---  ------     --------------  -----  \n",
      " 0   Make       9065 non-null   object \n",
      " 1   Pricesold  9065 non-null   float64\n",
      " 2   Bodytype   9065 non-null   object \n",
      " 3   Mileage    9065 non-null   int64  \n",
      " 4   Year       9065 non-null   int64  \n",
      " 5   Model      9065 non-null   object \n",
      " 6   Drivetype  9065 non-null   object \n",
      "dtypes: float64(1), int64(2), object(4)\n",
      "memory usage: 566.6+ KB\n"
     ]
    }
   ],
   "source": [
    "df.info()"
   ]
  },
  {
   "cell_type": "code",
   "execution_count": 251,
   "metadata": {},
   "outputs": [],
   "source": [
    "new_ordning = [\"Make\", \"Model\", \"Bodytype\", \"Drivetype\", \"Mileage\", \"Year\", \"Pricesold\"]"
   ]
  },
  {
   "cell_type": "code",
   "execution_count": 252,
   "metadata": {},
   "outputs": [],
   "source": [
    "df = df[new_ordning]"
   ]
  },
  {
   "cell_type": "code",
   "execution_count": 255,
   "metadata": {},
   "outputs": [],
   "source": [
    "df.columns = df.columns.str.strip().str.lower()\n",
    "df.columns = df.columns.str.strip().str.lower()"
   ]
  },
  {
   "cell_type": "code",
   "execution_count": null,
   "metadata": {},
   "outputs": [],
   "source": [
    "combined_df.to_csv('data/combined_countries.csv', index=False)\n",
    "print(\"Filerna har kombinerats och sparats som 'combined_countries.csv'\")"
   ]
  }
 ],
 "metadata": {
  "kernelspec": {
   "display_name": "base",
   "language": "python",
   "name": "python3"
  },
  "language_info": {
   "codemirror_mode": {
    "name": "ipython",
    "version": 3
   },
   "file_extension": ".py",
   "mimetype": "text/x-python",
   "name": "python",
   "nbconvert_exporter": "python",
   "pygments_lexer": "ipython3",
   "version": "3.12.7"
  }
 },
 "nbformat": 4,
 "nbformat_minor": 2
}
